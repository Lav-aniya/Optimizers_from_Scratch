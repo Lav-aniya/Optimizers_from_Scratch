{
 "cells": [
  {
   "cell_type": "markdown",
   "id": "399b8bcc",
   "metadata": {},
   "source": [
    "# **AdamW [ Adam with Decoupled Weight Decay ]**\n",
    "\n",
    "AdamW is just a crucial correction to how weight decay (a form of L2 regularization) is implemented in Adam.This small change has a significant impact on training large models **and** has become the standard for modern neural networks like Transformers.\n",
    "\n",
    "---\n",
    "\n",
    "In traditional setups, L2 regularization is implemented by adding a penalty term to the loss function. When the gradient is calculated, this results in a **\"decay\"** term being added to the gradient of the loss.\n",
    "\n",
    "The problem is that in an adaptive optimizer like Adam, this entire gradient (including the deacay part) gets scaled by the adaptive denominator $(\\sqrt{\\hat{v_{t}}})$.This means that parameters with large historical gradients (a large $\\hat{v_{t}}$) recieve a samller weight decay effect. This \"tangles\" the regularization with the gradient-based optimization, making the weight decay less effective and predictable than intended.\n",
    "\n",
    "**AdamW Solution:**\n",
    "**Decouple** the weight decay from the gradient update. The process works in two distinct steps:\n",
    "1. **Adam Step:** The optimizer first performs the standard Adam update using only the gradients from the loss function. It calculates the momentum and adaptive scaling as usual to determine the step to take. \n",
    "2. **Decay Step:** After the Adam step is complete, the weights are decayed directly by subtracting a small fraction of their current value. The formula for this step is:\n",
    "    $$w_{t+1} = w_{t} - \\eta\\lambda w_{t}$$\n",
    "    where $\\eta$ is the learning rate and $\\lambda$  is the weight decay factor.\n",
    "\n",
    "---\n",
    "\n",
    "## **The Algorithm:**\n",
    "\n",
    "The equations for AdamW are identical to Adam's for calculating the moving averages, but the final parameter update step is modified to decouple the weight decay.\n",
    "\n",
    "Given the loss function L, the update rule for a weight **`w`** at timestep **`t`** is as follows:\n",
    "\n",
    "1. Get the gradient of the loss function:\n",
    "$$ g_{t} = \\nabla L(w_{t}) $$\n",
    "2. Update the first moment (moving average of gradients):\n",
    "$$ m_{t} = \\beta_{1} m_{t-1} + (1 - \\beta_{1}) g_{t} $$\n",
    "3. Update the second moment (moving average of squared gradients):\n",
    "$$ v_{t} = \\beta_{2} v_{t-1} + (1 - \\beta_{2}) g_{t}^{2} $$\n",
    "4. Compute bias-corrected moments:\n",
    "$$ \\hat{m_{t}} = \\frac{m_{t}}{1-\\beta_{1}^{t}}$$\n",
    "$$ \\hat{v_{t}} = \\frac{v_{t}}{1-\\beta_{2}^{t}}$$\n",
    "5. Final parameter update with weight decay:\n",
    "$$ w_{t+1} = w_{t} - \\eta (\\frac{\\hat{m_{t}}}{\\sqrt{\\hat{v_{t}} + \\epsilon}} + \\lambda w_{t}) $$"
   ]
  },
  {
   "cell_type": "code",
   "execution_count": 1,
   "id": "a09c102f",
   "metadata": {},
   "outputs": [],
   "source": [
    "import numpy as np\n",
    "import matplotlib.pyplot as plt\n",
    "\n",
    "np.random.seed(42)"
   ]
  },
  {
   "cell_type": "code",
   "execution_count": 2,
   "id": "37742e35",
   "metadata": {},
   "outputs": [],
   "source": [
    "class Parameter:\n",
    "    def __init__(self, data):\n",
    "        self.data = data\n",
    "        self.grad = np.zeros_like(data)\n",
    "\n",
    "def linear_model(X, w, b): return X @ w.data + b.data\n",
    "def mse_loss(y_true, y_pred): return np.mean((y_true - y_pred)**2)\n",
    "\n",
    "def compute_gradients(X, y_true, y_pred, w, b):\n",
    "    n_samples = len(y_true)\n",
    "    grad_pred = -2 * (y_true - y_pred) / n_samples\n",
    "    w.grad = X.T @ grad_pred\n",
    "    b.grad = np.sum(grad_pred)"
   ]
  },
  {
   "cell_type": "code",
   "execution_count": 3,
   "id": "00e4f84e",
   "metadata": {},
   "outputs": [],
   "source": [
    "class Adam:\n",
    "    def __init__(self, params, lr=0.01, beta1=0.9, beta2=0.999, eps=1e-8):\n",
    "        self.params = params; self.lr = lr; self.beta1 = beta1; self.beta2 = beta2; self.eps = eps\n",
    "        self.m = [np.zeros_like(p.data) for p in self.params]\n",
    "        self.v = [np.zeros_like(p.data) for p in self.params]\n",
    "        self.t = 0\n",
    "    def step(self):\n",
    "        self.t += 1\n",
    "        for i, p in enumerate(self.params):\n",
    "            self.m[i] = self.beta1 * self.m[i] + (1 - self.beta1) * p.grad\n",
    "            self.v[i] = self.beta2 * self.v[i] + (1 - self.beta2) * (p.grad**2)\n",
    "            m_hat = self.m[i] / (1 - self.beta1**self.t)\n",
    "            v_hat = self.v[i] / (1 - self.beta2**self.t)\n",
    "            p.data -= self.lr * m_hat / (np.sqrt(v_hat) + self.eps)\n",
    "    def zero_grad(self):\n",
    "        for p in self.params: p.grad = np.zeros_like(p.data)"
   ]
  },
  {
   "cell_type": "code",
   "execution_count": 4,
   "id": "ac3122cf",
   "metadata": {},
   "outputs": [],
   "source": [
    "class AdamW:\n",
    "    def __init__(self, params, lr=0.01, beta1=0.9, beta2=0.999, eps=1e-8, weight_decay=0.01):\n",
    "        self.params = params; self.lr = lr; self.beta1 = beta1; self.beta2 = beta2; self.eps = eps\n",
    "        self.weight_decay = weight_decay\n",
    "        \n",
    "        self.m = [np.zeros_like(p.data) for p in self.params] \n",
    "        self.v = [np.zeros_like(p.data) for p in self.params] \n",
    "        self.t = 0 # Timestep counter\n",
    "    \n",
    "    def step(self):\n",
    "        self.t += 1\n",
    "        for i, p in enumerate(self.params):\n",
    "            # Standard Adam update logic\n",
    "            self.m[i] = self.beta1 * self.m[i] + (1 - self.beta1) * p.grad\n",
    "            self.v[i] = self.beta2 * self.v[i] + (1 - self.beta2) * (p.grad**2)\n",
    "            m_hat = self.m[i] / (1 - self.beta1**self.t)\n",
    "            v_hat = self.v[i] / (1 - self.beta2**self.t)\n",
    "            update_term = self.lr * m_hat / (np.sqrt(v_hat) + self.eps)\n",
    "\n",
    "            #Decoupled weight decay\n",
    "            p.data -= update_term\n",
    "            p.data -= self.lr * self.weight_decay * p.data\n",
    "    \n",
    "    def zero_grad(self):\n",
    "        for p in self.params:\n",
    "            p.grad = np.zeros_like(p.data)"
   ]
  },
  {
   "cell_type": "code",
   "execution_count": 5,
   "id": "9c1da859",
   "metadata": {},
   "outputs": [
    {
     "name": "stdout",
     "output_type": "stream",
     "text": [
      "Optimizer: Adam (lr=0.1)\n",
      "Final Weights: w=2.01, b=1.20\n",
      "\n",
      "Optimizer: AdamW (lr=0.1)\n",
      "Final Weights: w=1.99, b=1.20\n",
      "\n"
     ]
    },
    {
     "data": {
      "image/png": "[encoded data removed]",
      "text/plain": [
       "<Figure size 1000x600 with 1 Axes>"
      ]
     },
     "metadata": {},
     "output_type": "display_data"
    }
   ],
   "source": [
    "X = 2 * np.random.rand(100, 1)\n",
    "y = 1 + 2 * X + np.random.randn(100, 1)\n",
    "\n",
    "def train(optimizer, epochs=50):\n",
    "    loss_history = []\n",
    "    for epoch in range(epochs):\n",
    "        epoch_loss = 0\n",
    "        for i in range(len(X)):\n",
    "            x_sample, y_sample = X[i:i+1], y[i:i+1]\n",
    "            w, b = optimizer.params\n",
    "            y_pred = linear_model(x_sample, w, b)\n",
    "            epoch_loss += mse_loss(y_sample, y_pred)\n",
    "            optimizer.zero_grad()\n",
    "            compute_gradients(x_sample, y_sample, y_pred, w, b)\n",
    "            optimizer.step()\n",
    "        loss_history.append(epoch_loss / len(X))\n",
    "    \n",
    "    current_lr = getattr(optimizer, 'lr', 'N/A')\n",
    "    print(f\"Optimizer: {optimizer.__class__.__name__} (lr={current_lr})\")\n",
    "    w, b = optimizer.params\n",
    "    print(f\"Final Weights: w={w.data.item():.2f}, b={b.data.item():.2f}\\n\")\n",
    "    return loss_history\n",
    "\n",
    "# with Adam\n",
    "np.random.seed(42)\n",
    "w_adam = Parameter(np.random.randn(1, 1)); b_adam = Parameter(np.zeros(1))\n",
    "adam_optimizer = Adam(params=[w_adam, b_adam], lr=0.1)\n",
    "adam_losses = train(adam_optimizer)\n",
    "\n",
    "# with AdamW\n",
    "np.random.seed(42)\n",
    "w_adamw = Parameter(np.random.randn(1, 1)); b_adamw = Parameter(np.zeros(1))\n",
    "adamw_optimizer = AdamW(params=[w_adamw, b_adamw], lr=0.1, weight_decay=0.01)\n",
    "adamw_losses = train(adamw_optimizer)\n",
    "\n",
    "plt.figure(figsize=(10, 6))\n",
    "plt.plot(adam_losses, label='Adam (lr=0.1)')\n",
    "plt.plot(adamw_losses, label='AdamW (lr=0.1, wd=0.01)')\n",
    "plt.title('Adam vs. AdamW Convergence')\n",
    "plt.xlabel('Epoch')\n",
    "plt.ylabel('Mean Squared Error')\n",
    "plt.legend()\n",
    "plt.grid(True)\n",
    "plt.show()"
   ]
  },
  {
   "cell_type": "code",
   "execution_count": null,
   "id": "8d2d27be",
   "metadata": {},
   "outputs": [],
   "source": []
  }
 ],
 "metadata": {
  "kernelspec": {
   "display_name": "Python 3",
   "language": "python",
   "name": "python3"
  },
  "language_info": {
   "codemirror_mode": {
    "name": "ipython",
    "version": 3
   },
   "file_extension": ".py",
   "mimetype": "text/x-python",
   "name": "python",
   "nbconvert_exporter": "python",
   "pygments_lexer": "ipython3",
   "version": "3.12.4"
  }
 },
 "nbformat": 4,
 "nbformat_minor": 5
}
